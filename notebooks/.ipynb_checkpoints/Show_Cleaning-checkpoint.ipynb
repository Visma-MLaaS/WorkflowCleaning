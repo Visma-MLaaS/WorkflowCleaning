{
 "cells": [
  {
   "cell_type": "markdown",
   "metadata": {},
   "source": [
    "<img src=\"https://upload.wikimedia.org/wikipedia/en/a/a1/Visma_logo.jpg\"\n",
    "     align=\"right\"\n",
    "     width=\"30%\"\n",
    "     alt=\"Visma logo\">\n",
    "     \n",
    "Outlier Detection/Cleaning workflow\n",
    "================\n",
    "\n",
    "<img src=\"http://www.rm.dk/siteassets/regional-udvikling/digitalisering/dabai/dabai-logo.png\"\n",
    "     align=\"right\"\n",
    "     width=\"20%\"\n",
    "     alt=\"DABAI logo\">\n",
    "\n",
    "The following notebook contains the process' that make up the Cleaning workflow. The notebook consists of: an imput process, selecting relevant columns, choosing the desired algorithm, and execution of the workflow. The algorithms that are available are: KMeans and Gaussian Mixture models.\n",
    "\n",
    "__Note__: Spark has other clustering methods available, Bisecting KMeans and Latent Dirichlet Allocation which is used for topic modelling. These are not included in this workflow, due to unstability in these algorithms!\n",
    "\n",
    "\n",
    "\n",
    "\n",
    "##### Initial imports and change the work directory to the base project folder."
   ]
  },
  {
   "cell_type": "code",
   "execution_count": 1,
   "metadata": {
    "collapsed": true
   },
   "outputs": [],
   "source": [
    "sc.addPyFile('../dist_workflow/shared.zip')"
   ]
  },
  {
   "cell_type": "code",
   "execution_count": 2,
   "metadata": {},
   "outputs": [
    {
     "name": "stdout",
     "output_type": "stream",
     "text": [
      "/home/svanhmic/workspace/DABAI/Workflows\n"
     ]
    }
   ],
   "source": [
    "%run -i initilization.py"
   ]
  },
  {
   "cell_type": "markdown",
   "metadata": {},
   "source": [
    "#####  Data importation \n",
    "\n",
    "This workflow uses our homemade class that handles importation of data."
   ]
  },
  {
   "cell_type": "code",
   "execution_count": 3,
   "metadata": {},
   "outputs": [
    {
     "data": {
      "application/vnd.jupyter.widget-view+json": {
       "model_id": "57a77fed8a9a4b54ac756ed4d1c1d41f",
       "version_major": 2,
       "version_minor": 0
      },
      "text/html": [
       "<p>Failed to display Jupyter Widget of type <code>HBox</code>.</p>\n",
       "<p>\n",
       "  If you're reading this message in Jupyter Notebook or JupyterLab, it may mean\n",
       "  that the widgets JavaScript is still loading. If this message persists, it\n",
       "  likely means that the widgets JavaScript library is either not installed or\n",
       "  not enabled. See the <a href=\"https://ipywidgets.readthedocs.io/en/stable/user_install.html\">Jupyter\n",
       "  Widgets Documentation</a> for setup instructions.\n",
       "</p>\n",
       "<p>\n",
       "  If you're reading this message in another notebook frontend (for example, a static\n",
       "  rendering on GitHub or <a href=\"https://nbviewer.jupyter.org/\">NBViewer</a>),\n",
       "  it may mean that your frontend doesn't currently support widgets.\n",
       "</p>\n"
      ],
      "text/plain": [
       "HBox(children=(Text(value='/home/svanhmic/workspace/data/DABAI/sparkdata/parquet/normal_cluster_n_1000.parquet', description='path'), Button(description='Import file!', style=ButtonStyle()), Checkbox(value=False, description='Standardize Data:')))"
      ]
     },
     "metadata": {},
     "output_type": "display_data"
    }
   ],
   "source": [
    "from shared.Extension_to_timeit import pretty_time_result\n",
    "from shared.GeneralDataImport import GeneralDataImport\n",
    "\n",
    "dataIO = GeneralDataImport(\n",
    "    parquet_path+\"/normal_cluster_n_1000.parquet\",\n",
    ")"
   ]
  },
  {
   "cell_type": "markdown",
   "metadata": {},
   "source": [
    "##### Select the relevant columns to be used in the imported dataset \n",
    "\n",
    "Select respectively columns assigned to be lables and columns that are features"
   ]
  },
  {
   "cell_type": "code",
   "execution_count": 4,
   "metadata": {},
   "outputs": [
    {
     "data": {
      "application/vnd.jupyter.widget-view+json": {
       "model_id": "d9e2546c4c164c9c9f3f885a99b97b06",
       "version_major": 2,
       "version_minor": 0
      },
      "text/html": [
       "<p>Failed to display Jupyter Widget of type <code>SelectMultiple</code>.</p>\n",
       "<p>\n",
       "  If you're reading this message in Jupyter Notebook or JupyterLab, it may mean\n",
       "  that the widgets JavaScript is still loading. If this message persists, it\n",
       "  likely means that the widgets JavaScript library is either not installed or\n",
       "  not enabled. See the <a href=\"https://ipywidgets.readthedocs.io/en/stable/user_install.html\">Jupyter\n",
       "  Widgets Documentation</a> for setup instructions.\n",
       "</p>\n",
       "<p>\n",
       "  If you're reading this message in another notebook frontend (for example, a static\n",
       "  rendering on GitHub or <a href=\"https://nbviewer.jupyter.org/\">NBViewer</a>),\n",
       "  it may mean that your frontend doesn't currently support widgets.\n",
       "</p>\n"
      ],
      "text/plain": [
       "SelectMultiple(description='Select Features', options=('a', 'id', 'dimension', 'k', 'b'), value=())"
      ]
     },
     "metadata": {},
     "output_type": "display_data"
    }
   ],
   "source": [
    "dataIO.select_features()"
   ]
  },
  {
   "cell_type": "code",
   "execution_count": 5,
   "metadata": {},
   "outputs": [
    {
     "data": {
      "application/vnd.jupyter.widget-view+json": {
       "model_id": "3238988c963544699d3dc3af4484df1a",
       "version_major": 2,
       "version_minor": 0
      },
      "text/html": [
       "<p>Failed to display Jupyter Widget of type <code>SelectMultiple</code>.</p>\n",
       "<p>\n",
       "  If you're reading this message in Jupyter Notebook or JupyterLab, it may mean\n",
       "  that the widgets JavaScript is still loading. If this message persists, it\n",
       "  likely means that the widgets JavaScript library is either not installed or\n",
       "  not enabled. See the <a href=\"https://ipywidgets.readthedocs.io/en/stable/user_install.html\">Jupyter\n",
       "  Widgets Documentation</a> for setup instructions.\n",
       "</p>\n",
       "<p>\n",
       "  If you're reading this message in another notebook frontend (for example, a static\n",
       "  rendering on GitHub or <a href=\"https://nbviewer.jupyter.org/\">NBViewer</a>),\n",
       "  it may mean that your frontend doesn't currently support widgets.\n",
       "</p>\n"
      ],
      "text/plain": [
       "SelectMultiple(description='Select Features', options=('id', 'k', 'dimension'), value=())"
      ]
     },
     "metadata": {},
     "output_type": "display_data"
    }
   ],
   "source": [
    "dataIO.select_id()"
   ]
  },
  {
   "cell_type": "code",
   "execution_count": 6,
   "metadata": {},
   "outputs": [
    {
     "data": {
      "application/vnd.jupyter.widget-view+json": {
       "model_id": "0bb427e2e46546bfa06911086d61f11e",
       "version_major": 2,
       "version_minor": 0
      },
      "text/html": [
       "<p>Failed to display Jupyter Widget of type <code>SelectMultiple</code>.</p>\n",
       "<p>\n",
       "  If you're reading this message in Jupyter Notebook or JupyterLab, it may mean\n",
       "  that the widgets JavaScript is still loading. If this message persists, it\n",
       "  likely means that the widgets JavaScript library is either not installed or\n",
       "  not enabled. See the <a href=\"https://ipywidgets.readthedocs.io/en/stable/user_install.html\">Jupyter\n",
       "  Widgets Documentation</a> for setup instructions.\n",
       "</p>\n",
       "<p>\n",
       "  If you're reading this message in another notebook frontend (for example, a static\n",
       "  rendering on GitHub or <a href=\"https://nbviewer.jupyter.org/\">NBViewer</a>),\n",
       "  it may mean that your frontend doesn't currently support widgets.\n",
       "</p>\n"
      ],
      "text/plain": [
       "SelectMultiple(description='Select Features', options=('k', 'dimension'), value=())"
      ]
     },
     "metadata": {},
     "output_type": "display_data"
    }
   ],
   "source": [
    "dataIO.select_labels()"
   ]
  },
  {
   "cell_type": "markdown",
   "metadata": {},
   "source": [
    "### An initial look at the data\n",
    "* Lets look at the raw numbers...\n",
    "* We also have a plot showing how the data is distributed in 2D"
   ]
  },
  {
   "cell_type": "code",
   "execution_count": 7,
   "metadata": {},
   "outputs": [
    {
     "name": "stdout",
     "output_type": "stream",
     "text": [
      "['a', 'b']\n",
      "['k', 'dimension']\n",
      "['id']\n"
     ]
    },
    {
     "data": {
      "text/html": [
       "<div>\n",
       "<table border=\"1\" class=\"dataframe\">\n",
       "  <thead>\n",
       "    <tr style=\"text-align: right;\">\n",
       "      <th></th>\n",
       "      <th>id</th>\n",
       "      <th>k</th>\n",
       "      <th>dimension</th>\n",
       "      <th>a</th>\n",
       "      <th>b</th>\n",
       "    </tr>\n",
       "  </thead>\n",
       "  <tbody>\n",
       "    <tr>\n",
       "      <th>0</th>\n",
       "      <td>0</td>\n",
       "      <td>1.0</td>\n",
       "      <td>2.0</td>\n",
       "      <td>5.681480</td>\n",
       "      <td>3.158786</td>\n",
       "    </tr>\n",
       "    <tr>\n",
       "      <th>1</th>\n",
       "      <td>1</td>\n",
       "      <td>1.0</td>\n",
       "      <td>2.0</td>\n",
       "      <td>2.984444</td>\n",
       "      <td>5.840077</td>\n",
       "    </tr>\n",
       "    <tr>\n",
       "      <th>2</th>\n",
       "      <td>2</td>\n",
       "      <td>1.0</td>\n",
       "      <td>2.0</td>\n",
       "      <td>4.563474</td>\n",
       "      <td>4.873891</td>\n",
       "    </tr>\n",
       "    <tr>\n",
       "      <th>3</th>\n",
       "      <td>3</td>\n",
       "      <td>1.0</td>\n",
       "      <td>2.0</td>\n",
       "      <td>5.353377</td>\n",
       "      <td>4.905738</td>\n",
       "    </tr>\n",
       "    <tr>\n",
       "      <th>4</th>\n",
       "      <td>4</td>\n",
       "      <td>1.0</td>\n",
       "      <td>2.0</td>\n",
       "      <td>3.980736</td>\n",
       "      <td>5.922937</td>\n",
       "    </tr>\n",
       "  </tbody>\n",
       "</table>\n",
       "</div>"
      ],
      "text/plain": [
       "  id    k  dimension         a         b\n",
       "0  0  1.0        2.0  5.681480  3.158786\n",
       "1  1  1.0        2.0  2.984444  5.840077\n",
       "2  2  1.0        2.0  4.563474  4.873891\n",
       "3  3  1.0        2.0  5.353377  4.905738\n",
       "4  4  1.0        2.0  3.980736  5.922937"
      ]
     },
     "execution_count": 7,
     "metadata": {},
     "output_type": "execute_result"
    }
   ],
   "source": [
    "print(dataIO.list_features)\n",
    "print(dataIO.list_label)\n",
    "print(dataIO.list_id)\n",
    "df = dataIO.data_frame\n",
    "df.limit(5).toPandas()\n",
    "#df.limit(5).toPandas()"
   ]
  },
  {
   "cell_type": "code",
   "execution_count": 8,
   "metadata": {},
   "outputs": [
    {
     "data": {
      "image/png": "[encoded data removed]",
      "text/plain": [
       "<matplotlib.figure.Figure at 0x7fbca23444a8>"
      ]
     },
     "metadata": {},
     "output_type": "display_data"
    }
   ],
   "source": [
    "#ax = sb.regplot('a','b',df.toPandas(),fit_reg=False)\n",
    "ax = sb.lmplot(\n",
    "    'a',\n",
    "    'b',\n",
    "    dataIO._data_frame.toPandas(),\n",
    "    fit_reg=False,\n",
    "    size=8,\n",
    "    hue='k',\n",
    "    scatter_kws={'alpha':0.7,'s':60}\n",
    ")\n",
    "ax.ax.set_title('An initial look at data',fontsize=20)\n",
    "plt.show()"
   ]
  },
  {
   "cell_type": "code",
   "execution_count": 9,
   "metadata": {
    "collapsed": true,
    "scrolled": false
   },
   "outputs": [],
   "source": [
    "#import data!\n",
    "#from pyspark.sql import functions as F\n",
    "#from shared.create_dummy_data import create_dummy_data \n",
    "\n",
    "#test_timer = %timeit -o feature_data = create_dummy_data(1000, \"x y z\", \"label\", outlier_number=0.2, outlier_factor=20)\n",
    "#feature_data = feature_data.select([(10*F.col(i)).alias(i) for i in [\"x\",\"y\",\"z\"]])\n",
    "#feature_data.orderBy('x',ascending=[0,0,0]).show()"
   ]
  },
  {
   "cell_type": "markdown",
   "metadata": {},
   "source": [
    "###  Lets select an alogrithm for this test instance. \n",
    "\n",
    "__Note:__ We should also set some parameters; and this can be done via the fancy widgets."
   ]
  },
  {
   "cell_type": "code",
   "execution_count": 10,
   "metadata": {
    "collapsed": true
   },
   "outputs": [],
   "source": [
    "# Select parameters\n",
    "from cleaning.CreateParametersCleaning import ParamsCleaning\n",
    "\n",
    "params = ParamsCleaning()\n",
    "parameters = params.select_parameters()"
   ]
  },
  {
   "cell_type": "code",
   "execution_count": 11,
   "metadata": {
    "scrolled": false
   },
   "outputs": [
    {
     "data": {
      "application/vnd.jupyter.widget-view+json": {
       "model_id": "682ace89a88e465f9cfd40d534e8865d",
       "version_major": 2,
       "version_minor": 0
      },
      "text/html": [
       "<p>Failed to display Jupyter Widget of type <code>VBox</code>.</p>\n",
       "<p>\n",
       "  If you're reading this message in Jupyter Notebook or JupyterLab, it may mean\n",
       "  that the widgets JavaScript is still loading. If this message persists, it\n",
       "  likely means that the widgets JavaScript library is either not installed or\n",
       "  not enabled. See the <a href=\"https://ipywidgets.readthedocs.io/en/stable/user_install.html\">Jupyter\n",
       "  Widgets Documentation</a> for setup instructions.\n",
       "</p>\n",
       "<p>\n",
       "  If you're reading this message in another notebook frontend (for example, a static\n",
       "  rendering on GitHub or <a href=\"https://nbviewer.jupyter.org/\">NBViewer</a>),\n",
       "  it may mean that your frontend doesn't currently support widgets.\n",
       "</p>\n"
      ],
      "text/plain": [
       "VBox(children=(HBox(children=(Dropdown(description='Algorithms', options=('KMeans', 'GaussianMixture', 'LDA'), value='KMeans'),)), HBox(children=(IntSlider(value=2, description='Number of Clusters', max=200, min=2), IntSlider(value=20, description='Max iterations', max=1000, min=10))), HBox(children=(FloatSlider(value=0.0001, description='Tolerance', max=0.001, min=0.0001, step=0.0001),)), HBox(children=(IntSlider(value=5, description='Number of Initial steps', min=1), Dropdown(description='Initial mode', options=('k-means||', 'random'), value='k-means||')))))"
      ]
     },
     "metadata": {},
     "output_type": "display_data"
    }
   ],
   "source": [
    "parameters"
   ]
  },
  {
   "cell_type": "markdown",
   "metadata": {},
   "source": [
    "__Just to verify that we have the correct algorithm and parameters__"
   ]
  },
  {
   "cell_type": "code",
   "execution_count": 15,
   "metadata": {},
   "outputs": [
    {
     "data": {
      "text/plain": [
       "['BisectingKMeans',\n",
       " 'BisectingKMeansModel',\n",
       " 'KMeans',\n",
       " 'KMeansModel',\n",
       " 'GaussianMixture',\n",
       " 'GaussianMixtureModel',\n",
       " 'LDA',\n",
       " 'LDAModel',\n",
       " 'LocalLDAModel',\n",
       " 'DistributedLDAModel']"
      ]
     },
     "execution_count": 15,
     "metadata": {},
     "output_type": "execute_result"
    }
   ],
   "source": [
    "from pyspark.ml import clustering\n",
    "\n",
    "clustering.__all__"
   ]
  },
  {
   "cell_type": "code",
   "execution_count": 14,
   "metadata": {},
   "outputs": [
    {
     "name": "stdout",
     "output_type": "stream",
     "text": [
      "{'tol': 0.001, 'k': 2, 'maxIter': 100, 'algorithm': 'GaussianMixture'}\n"
     ]
    }
   ],
   "source": [
    "#print(params.output_parameters(parameters))\n",
    "#test_params_1 = {'tol': 0.00001, 'k': 3, 'maxIter': 300, 'algorithm': 'GaussianMixture', 'seed': 1080866016001745000}\n",
    "test_params_1 = params.output_parameters(parameters)\n",
    "print(test_params_1)"
   ]
  },
  {
   "cell_type": "markdown",
   "metadata": {},
   "source": [
    "### OK! So fare so good. \n",
    "\n",
    "Lets create the [pipeline](http://spark.apache.org/docs/2.0.0/ml-pipeline.html). We have all the ingredients needed to create it. \n",
    "Furthermore, we have some hacks! In order to performance test the algorithms properly, we have to import several datasets. This is ussually done below, but for this showcase we only use *df*"
   ]
  },
  {
   "cell_type": "code",
   "execution_count": 16,
   "metadata": {
    "collapsed": true,
    "scrolled": false
   },
   "outputs": [],
   "source": [
    "from cleaning.ExecuteCleaningWorkflow import ExecuteWorkflow\n",
    "\n",
    "partitions = [80]\n",
    "sizes = [1000]\n",
    "features = dataIO.list_features\n",
    "labels = dataIO.list_label\n",
    "#print(features)\n",
    "#print(labels)\n",
    "\n",
    "execution_model = ExecuteWorkflow(\n",
    "    dict_params = test_params_1,\n",
    "    cols_features = features, \n",
    "    cols_labels = labels)\n",
    "\n",
    "# this is hardcoded at the moment, use the comment for testing purposes!\n",
    "collection_of_data = [parquet_path+'/normal_cluster_n_{}.parquet'.format(i) for i in sizes]\n",
    "collection_of_model = []\n",
    "collection_of_transformed = []\n",
    "#collection_of_data\n",
    "#counts = [i.rdd.getNumPartitions() for i in collection_of_data]\n",
    "#counts\n",
    "#collection_of_data.append(df)"
   ]
  },
  {
   "cell_type": "markdown",
   "metadata": {},
   "source": [
    "### The actual execution phase happens here.\n",
    "\n",
    "There is alot of code here! It handles multiple datasets and partition sizes. A pipeline is also executed *r* times for each partition size and each dataset. Execution time results, which are important for performance testing is added to a log. The last trained machine learning model in each test instance is saved to an array: *collection_of_model* "
   ]
  },
  {
   "cell_type": "code",
   "execution_count": 18,
   "metadata": {
    "scrolled": true
   },
   "outputs": [
    {
     "name": "stdout",
     "output_type": "stream",
     "text": [
      "4.14 s ± 0 ns per loop (mean ± std. dev. of 1 run, 1 loop each)\n",
      "183 ms ± 36 ms per loop (mean ± std. dev. of 7 runs, 1 loop each)\n"
     ]
    }
   ],
   "source": [
    "for jdx, partition_size in enumerate(partitions):\n",
    "    for idx, data in enumerate(collection_of_data):\n",
    "\n",
    "        df_data = (\n",
    "            spark.\n",
    "            read.\n",
    "            parquet(data).\n",
    "            repartition(partition_size)\n",
    "        )\n",
    "        \n",
    "        iteration = idx+jdx*len(collection_of_data)\n",
    "        logger_tester.info(\n",
    "            'Iteration {} for data size {}'.\n",
    "            format(iteration, sizes[idx])\n",
    "        )\n",
    "\n",
    "        model_timer = %timeit -r1 -o collection_of_model.append(execution_model.execute_pipeline(df_data)) \n",
    "        transformer_timer = %timeit -o execution_model.apply_model(sc, collection_of_model[iteration], df_data)\n",
    "        collection_of_model = collection_of_model[:iteration+1]\n",
    "        logger_tester.info(\n",
    "            'Iteration '+str(iteration)+' for training model : '+pretty_time_result(model_timer))\n",
    "        logger_tester.info(\n",
    "            'Iteration '+str(iteration)+' for transforming model : '+pretty_time_result(transformer_timer))\n",
    "        #merged_df.write.parquet('/home/svanhmic/workspace/data/DABAI/sparkdata/parquet/merged_df_parquet')"
   ]
  },
  {
   "cell_type": "markdown",
   "metadata": {},
   "source": [
    "### Lets import the data again and apply the model\n",
    "\n",
    "In order to reproduce our results, we use our model on our dataset. \n",
    "__Note:__ This is acutally cheating, we should have a test set which is a subset of the original dataset, in order to test the robustness of the model."
   ]
  },
  {
   "cell_type": "code",
   "execution_count": 20,
   "metadata": {},
   "outputs": [
    {
     "data": {
      "text/html": [
       "<div>\n",
       "<table border=\"1\" class=\"dataframe\">\n",
       "  <thead>\n",
       "    <tr style=\"text-align: right;\">\n",
       "      <th></th>\n",
       "      <th>prediction</th>\n",
       "      <th>id</th>\n",
       "      <th>k</th>\n",
       "      <th>dimension</th>\n",
       "      <th>a</th>\n",
       "      <th>b</th>\n",
       "      <th>features</th>\n",
       "      <th>casted_features</th>\n",
       "      <th>scaled_features</th>\n",
       "      <th>probability</th>\n",
       "      <th>mean</th>\n",
       "      <th>cov</th>\n",
       "      <th>centers</th>\n",
       "    </tr>\n",
       "  </thead>\n",
       "  <tbody>\n",
       "    <tr>\n",
       "      <th>0</th>\n",
       "      <td>0</td>\n",
       "      <td>0</td>\n",
       "      <td>7</td>\n",
       "      <td>2</td>\n",
       "      <td>5.543376</td>\n",
       "      <td>-9.073114</td>\n",
       "      <td>[5.5433761888, -9.07311431512]</td>\n",
       "      <td>[5.5433761888, -9.07311431512]</td>\n",
       "      <td>[5.5433761888, -9.07311431512]</td>\n",
       "      <td>[1.0, 4.76160583605e-13]</td>\n",
       "      <td>[5.76836669331, 1.48512161755]</td>\n",
       "      <td>DenseMatrix([[  3.26283039,  -2.68503552],\\n  ...</td>\n",
       "      <td>[5.76836669331, 1.48512161755]</td>\n",
       "    </tr>\n",
       "    <tr>\n",
       "      <th>1</th>\n",
       "      <td>0</td>\n",
       "      <td>58</td>\n",
       "      <td>0</td>\n",
       "      <td>2</td>\n",
       "      <td>2.974459</td>\n",
       "      <td>0.373379</td>\n",
       "      <td>[2.97445873775, 0.373378969246]</td>\n",
       "      <td>[2.97445873775, 0.373378969246]</td>\n",
       "      <td>[2.97445873775, 0.373378969246]</td>\n",
       "      <td>[0.999977124896, 2.28751044469e-05]</td>\n",
       "      <td>[5.76836669331, 1.48512161755]</td>\n",
       "      <td>DenseMatrix([[  3.26283039,  -2.68503552],\\n  ...</td>\n",
       "      <td>[5.76836669331, 1.48512161755]</td>\n",
       "    </tr>\n",
       "    <tr>\n",
       "      <th>2</th>\n",
       "      <td>0</td>\n",
       "      <td>126</td>\n",
       "      <td>0</td>\n",
       "      <td>2</td>\n",
       "      <td>5.226935</td>\n",
       "      <td>1.476878</td>\n",
       "      <td>[5.22693466329, 1.47687790614]</td>\n",
       "      <td>[5.22693466329, 1.47687790614]</td>\n",
       "      <td>[5.22693466329, 1.47687790614]</td>\n",
       "      <td>[0.999999987284, 1.27161212483e-08]</td>\n",
       "      <td>[5.76836669331, 1.48512161755]</td>\n",
       "      <td>DenseMatrix([[  3.26283039,  -2.68503552],\\n  ...</td>\n",
       "      <td>[5.76836669331, 1.48512161755]</td>\n",
       "    </tr>\n",
       "    <tr>\n",
       "      <th>3</th>\n",
       "      <td>0</td>\n",
       "      <td>130</td>\n",
       "      <td>8</td>\n",
       "      <td>2</td>\n",
       "      <td>7.340900</td>\n",
       "      <td>-2.580350</td>\n",
       "      <td>[7.34090008255, -2.58035014908]</td>\n",
       "      <td>[7.34090008255, -2.58035014908]</td>\n",
       "      <td>[7.34090008255, -2.58035014908]</td>\n",
       "      <td>[1.0, 3.43399021042e-14]</td>\n",
       "      <td>[5.76836669331, 1.48512161755]</td>\n",
       "      <td>DenseMatrix([[  3.26283039,  -2.68503552],\\n  ...</td>\n",
       "      <td>[5.76836669331, 1.48512161755]</td>\n",
       "    </tr>\n",
       "    <tr>\n",
       "      <th>4</th>\n",
       "      <td>0</td>\n",
       "      <td>6</td>\n",
       "      <td>8</td>\n",
       "      <td>2</td>\n",
       "      <td>6.729923</td>\n",
       "      <td>-5.518585</td>\n",
       "      <td>[6.72992314934, -5.51858492447]</td>\n",
       "      <td>[6.72992314934, -5.51858492447]</td>\n",
       "      <td>[6.72992314934, -5.51858492447]</td>\n",
       "      <td>[1.0, 5.95098011583e-14]</td>\n",
       "      <td>[5.76836669331, 1.48512161755]</td>\n",
       "      <td>DenseMatrix([[  3.26283039,  -2.68503552],\\n  ...</td>\n",
       "      <td>[5.76836669331, 1.48512161755]</td>\n",
       "    </tr>\n",
       "  </tbody>\n",
       "</table>\n",
       "</div>"
      ],
      "text/plain": [
       "   prediction   id  k  dimension         a         b  \\\n",
       "0           0    0  7          2  5.543376 -9.073114   \n",
       "1           0   58  0          2  2.974459  0.373379   \n",
       "2           0  126  0          2  5.226935  1.476878   \n",
       "3           0  130  8          2  7.340900 -2.580350   \n",
       "4           0    6  8          2  6.729923 -5.518585   \n",
       "\n",
       "                          features                  casted_features  \\\n",
       "0   [5.5433761888, -9.07311431512]   [5.5433761888, -9.07311431512]   \n",
       "1  [2.97445873775, 0.373378969246]  [2.97445873775, 0.373378969246]   \n",
       "2   [5.22693466329, 1.47687790614]   [5.22693466329, 1.47687790614]   \n",
       "3  [7.34090008255, -2.58035014908]  [7.34090008255, -2.58035014908]   \n",
       "4  [6.72992314934, -5.51858492447]  [6.72992314934, -5.51858492447]   \n",
       "\n",
       "                   scaled_features                          probability  \\\n",
       "0   [5.5433761888, -9.07311431512]             [1.0, 4.76160583605e-13]   \n",
       "1  [2.97445873775, 0.373378969246]  [0.999977124896, 2.28751044469e-05]   \n",
       "2   [5.22693466329, 1.47687790614]  [0.999999987284, 1.27161212483e-08]   \n",
       "3  [7.34090008255, -2.58035014908]             [1.0, 3.43399021042e-14]   \n",
       "4  [6.72992314934, -5.51858492447]             [1.0, 5.95098011583e-14]   \n",
       "\n",
       "                             mean  \\\n",
       "0  [5.76836669331, 1.48512161755]   \n",
       "1  [5.76836669331, 1.48512161755]   \n",
       "2  [5.76836669331, 1.48512161755]   \n",
       "3  [5.76836669331, 1.48512161755]   \n",
       "4  [5.76836669331, 1.48512161755]   \n",
       "\n",
       "                                                 cov  \\\n",
       "0  DenseMatrix([[  3.26283039,  -2.68503552],\\n  ...   \n",
       "1  DenseMatrix([[  3.26283039,  -2.68503552],\\n  ...   \n",
       "2  DenseMatrix([[  3.26283039,  -2.68503552],\\n  ...   \n",
       "3  DenseMatrix([[  3.26283039,  -2.68503552],\\n  ...   \n",
       "4  DenseMatrix([[  3.26283039,  -2.68503552],\\n  ...   \n",
       "\n",
       "                          centers  \n",
       "0  [5.76836669331, 1.48512161755]  \n",
       "1  [5.76836669331, 1.48512161755]  \n",
       "2  [5.76836669331, 1.48512161755]  \n",
       "3  [5.76836669331, 1.48512161755]  \n",
       "4  [5.76836669331, 1.48512161755]  "
      ]
     },
     "execution_count": 20,
     "metadata": {},
     "output_type": "execute_result"
    }
   ],
   "source": [
    "df_data = (\n",
    "    spark.\n",
    "    read.\n",
    "    parquet(data).\n",
    "    repartition(partition_size)\n",
    ")\n",
    "\n",
    "df_results = execution_model.apply_model(sc,\n",
    "    collection_of_model[iteration],\n",
    "    df_data\n",
    ")\n",
    "df_results.limit(5).toPandas()"
   ]
  },
  {
   "cell_type": "markdown",
   "metadata": {},
   "source": [
    "### Let take a look at the results. Are there any outliers???"
   ]
  },
  {
   "cell_type": "code",
   "execution_count": 21,
   "metadata": {},
   "outputs": [
    {
     "data": {
      "text/plain": [
       "{'algorithm': 'GaussianMixture',\n",
       " 'featuresCol': 'scaled_features',\n",
       " 'k': 2,\n",
       " 'maxIter': 100,\n",
       " 'predictionCol': 'prediction',\n",
       " 'probabilityCol': 'probability',\n",
       " 'seed': -7090211980209472397,\n",
       " 'tol': 0.001}"
      ]
     },
     "execution_count": 21,
     "metadata": {},
     "output_type": "execute_result"
    }
   ],
   "source": [
    "execution_model.parameters"
   ]
  },
  {
   "cell_type": "code",
   "execution_count": 22,
   "metadata": {
    "collapsed": true,
    "scrolled": true
   },
   "outputs": [],
   "source": [
    "from cleaning.ShowCleaning import ShowResults\n",
    "results = ShowResults(sc,\n",
    "    execution_model.parameters,\n",
    "    list_features=execution_model.features,\n",
    "    list_labels=execution_model.labels)\n",
    "\n",
    "prepared_df = results.prepare_table_data(df_results)"
   ]
  },
  {
   "cell_type": "code",
   "execution_count": 23,
   "metadata": {
    "scrolled": false
   },
   "outputs": [
    {
     "data": {
      "text/html": [
       "<div>\n",
       "<table border=\"1\" class=\"dataframe\">\n",
       "  <thead>\n",
       "    <tr style=\"text-align: right;\">\n",
       "      <th></th>\n",
       "      <th>Prediction</th>\n",
       "      <th>count</th>\n",
       "      <th>outlier_count</th>\n",
       "      <th>outlier percentage</th>\n",
       "    </tr>\n",
       "  </thead>\n",
       "  <tbody>\n",
       "    <tr>\n",
       "      <th>0</th>\n",
       "      <td>2</td>\n",
       "      <td>382</td>\n",
       "      <td>20</td>\n",
       "      <td>5.0</td>\n",
       "    </tr>\n",
       "    <tr>\n",
       "      <th>1</th>\n",
       "      <td>1</td>\n",
       "      <td>618</td>\n",
       "      <td>13</td>\n",
       "      <td>2.0</td>\n",
       "    </tr>\n",
       "  </tbody>\n",
       "</table>\n",
       "</div>"
      ],
      "text/plain": [
       "   Prediction  count  outlier_count  outlier percentage\n",
       "0           2    382             20                 5.0\n",
       "1           1    618             13                 2.0"
      ]
     },
     "execution_count": 23,
     "metadata": {},
     "output_type": "execute_result"
    }
   ],
   "source": [
    "new_df = results.prepare_table_data(prepared_df, prediction_col='prediction')\n",
    "summary_df = results.compute_summary(new_df)\n",
    "summary_df.toPandas()"
   ]
  },
  {
   "cell_type": "code",
   "execution_count": 24,
   "metadata": {
    "scrolled": true
   },
   "outputs": [
    {
     "data": {
      "application/vnd.jupyter.widget-view+json": {
       "model_id": "9080e10feedf44359ca24a2eeae7971c",
       "version_major": 2,
       "version_minor": 0
      },
      "text/html": [
       "<p>Failed to display Jupyter Widget of type <code>Dropdown</code>.</p>\n",
       "<p>\n",
       "  If you're reading this message in Jupyter Notebook or JupyterLab, it may mean\n",
       "  that the widgets JavaScript is still loading. If this message persists, it\n",
       "  likely means that the widgets JavaScript library is either not installed or\n",
       "  not enabled. See the <a href=\"https://ipywidgets.readthedocs.io/en/stable/user_install.html\">Jupyter\n",
       "  Widgets Documentation</a> for setup instructions.\n",
       "</p>\n",
       "<p>\n",
       "  If you're reading this message in another notebook frontend (for example, a static\n",
       "  rendering on GitHub or <a href=\"https://nbviewer.jupyter.org/\">NBViewer</a>),\n",
       "  it may mean that your frontend doesn't currently support widgets.\n",
       "</p>\n"
      ],
      "text/plain": [
       "Dropdown(description='Select a Cluster', options=('Cluster 1', 'Cluster 2'), value='Cluster 1')"
      ]
     },
     "metadata": {},
     "output_type": "display_data"
    }
   ],
   "source": [
    "df_with_dists = results.select_cluster(new_df)"
   ]
  },
  {
   "cell_type": "markdown",
   "metadata": {},
   "source": [
    "There appear to be no outliers in the data, when using the [$\\chi²$-distribution](https://en.wikipedia.org/wiki/Chi-squared_distribution)."
   ]
  },
  {
   "cell_type": "code",
   "execution_count": 25,
   "metadata": {},
   "outputs": [
    {
     "data": {
      "text/html": [
       "<div>\n",
       "<table border=\"1\" class=\"dataframe\">\n",
       "  <thead>\n",
       "    <tr style=\"text-align: right;\">\n",
       "      <th></th>\n",
       "      <th>id</th>\n",
       "      <th>k</th>\n",
       "      <th>dimension</th>\n",
       "      <th>a</th>\n",
       "      <th>b</th>\n",
       "      <th>features</th>\n",
       "      <th>casted_features</th>\n",
       "      <th>scaled_features</th>\n",
       "      <th>prediction</th>\n",
       "      <th>centers</th>\n",
       "      <th>rowId</th>\n",
       "      <th>distance</th>\n",
       "      <th>computed_boundary</th>\n",
       "      <th>is_outlier</th>\n",
       "    </tr>\n",
       "  </thead>\n",
       "  <tbody>\n",
       "    <tr>\n",
       "      <th>0</th>\n",
       "      <td>131</td>\n",
       "      <td>8</td>\n",
       "      <td>2</td>\n",
       "      <td>6.665449</td>\n",
       "      <td>-4.020492</td>\n",
       "      <td>[6.66544900916, -4.02049227422]</td>\n",
       "      <td>[6.66544900916, -4.02049227422]</td>\n",
       "      <td>[6.66544900916, -4.02049227422]</td>\n",
       "      <td>6</td>\n",
       "      <td>[7.04262949413, -5.43828904252]</td>\n",
       "      <td>566935683072</td>\n",
       "      <td>1.467110</td>\n",
       "      <td>3.089498</td>\n",
       "      <td>False</td>\n",
       "    </tr>\n",
       "    <tr>\n",
       "      <th>1</th>\n",
       "      <td>132</td>\n",
       "      <td>8</td>\n",
       "      <td>2</td>\n",
       "      <td>6.965311</td>\n",
       "      <td>-6.706283</td>\n",
       "      <td>[6.96531074815, -6.70628275891]</td>\n",
       "      <td>[6.96531074815, -6.70628275891]</td>\n",
       "      <td>[6.96531074815, -6.70628275891]</td>\n",
       "      <td>6</td>\n",
       "      <td>[7.04262949413, -5.43828904252]</td>\n",
       "      <td>566935683073</td>\n",
       "      <td>1.270349</td>\n",
       "      <td>3.089498</td>\n",
       "      <td>False</td>\n",
       "    </tr>\n",
       "    <tr>\n",
       "      <th>2</th>\n",
       "      <td>9</td>\n",
       "      <td>8</td>\n",
       "      <td>2</td>\n",
       "      <td>6.926694</td>\n",
       "      <td>-5.055103</td>\n",
       "      <td>[6.92669416872, -5.05510305871]</td>\n",
       "      <td>[6.92669416872, -5.05510305871]</td>\n",
       "      <td>[6.92669416872, -5.05510305871]</td>\n",
       "      <td>6</td>\n",
       "      <td>[7.04262949413, -5.43828904252]</td>\n",
       "      <td>566935683074</td>\n",
       "      <td>0.400340</td>\n",
       "      <td>3.089498</td>\n",
       "      <td>False</td>\n",
       "    </tr>\n",
       "    <tr>\n",
       "      <th>3</th>\n",
       "      <td>133</td>\n",
       "      <td>8</td>\n",
       "      <td>2</td>\n",
       "      <td>7.994157</td>\n",
       "      <td>-5.382574</td>\n",
       "      <td>[7.99415658723, -5.38257406943]</td>\n",
       "      <td>[7.99415658723, -5.38257406943]</td>\n",
       "      <td>[7.99415658723, -5.38257406943]</td>\n",
       "      <td>6</td>\n",
       "      <td>[7.04262949413, -5.43828904252]</td>\n",
       "      <td>566935683075</td>\n",
       "      <td>0.953157</td>\n",
       "      <td>3.089498</td>\n",
       "      <td>False</td>\n",
       "    </tr>\n",
       "    <tr>\n",
       "      <th>4</th>\n",
       "      <td>135</td>\n",
       "      <td>8</td>\n",
       "      <td>2</td>\n",
       "      <td>7.896947</td>\n",
       "      <td>-5.801625</td>\n",
       "      <td>[7.89694682972, -5.80162539674]</td>\n",
       "      <td>[7.89694682972, -5.80162539674]</td>\n",
       "      <td>[7.89694682972, -5.80162539674]</td>\n",
       "      <td>6</td>\n",
       "      <td>[7.04262949413, -5.43828904252]</td>\n",
       "      <td>566935683076</td>\n",
       "      <td>0.928370</td>\n",
       "      <td>3.089498</td>\n",
       "      <td>False</td>\n",
       "    </tr>\n",
       "  </tbody>\n",
       "</table>\n",
       "</div>"
      ],
      "text/plain": [
       "    id  k  dimension         a         b                         features  \\\n",
       "0  131  8          2  6.665449 -4.020492  [6.66544900916, -4.02049227422]   \n",
       "1  132  8          2  6.965311 -6.706283  [6.96531074815, -6.70628275891]   \n",
       "2    9  8          2  6.926694 -5.055103  [6.92669416872, -5.05510305871]   \n",
       "3  133  8          2  7.994157 -5.382574  [7.99415658723, -5.38257406943]   \n",
       "4  135  8          2  7.896947 -5.801625  [7.89694682972, -5.80162539674]   \n",
       "\n",
       "                   casted_features                  scaled_features  \\\n",
       "0  [6.66544900916, -4.02049227422]  [6.66544900916, -4.02049227422]   \n",
       "1  [6.96531074815, -6.70628275891]  [6.96531074815, -6.70628275891]   \n",
       "2  [6.92669416872, -5.05510305871]  [6.92669416872, -5.05510305871]   \n",
       "3  [7.99415658723, -5.38257406943]  [7.99415658723, -5.38257406943]   \n",
       "4  [7.89694682972, -5.80162539674]  [7.89694682972, -5.80162539674]   \n",
       "\n",
       "   prediction                          centers         rowId  distance  \\\n",
       "0           6  [7.04262949413, -5.43828904252]  566935683072  1.467110   \n",
       "1           6  [7.04262949413, -5.43828904252]  566935683073  1.270349   \n",
       "2           6  [7.04262949413, -5.43828904252]  566935683074  0.400340   \n",
       "3           6  [7.04262949413, -5.43828904252]  566935683075  0.953157   \n",
       "4           6  [7.04262949413, -5.43828904252]  566935683076  0.928370   \n",
       "\n",
       "   computed_boundary is_outlier  \n",
       "0           3.089498      False  \n",
       "1           3.089498      False  \n",
       "2           3.089498      False  \n",
       "3           3.089498      False  \n",
       "4           3.089498      False  "
      ]
     },
     "execution_count": 25,
     "metadata": {},
     "output_type": "execute_result"
    }
   ],
   "source": [
    "new_df.limit(5).toPandas()"
   ]
  },
  {
   "cell_type": "code",
   "execution_count": 27,
   "metadata": {
    "scrolled": false
   },
   "outputs": [
    {
     "data": {
      "image/png": "[encoded data removed]",
      "text/plain": [
       "<matplotlib.figure.Figure at 0x7f7127c1b5f8>"
      ]
     },
     "metadata": {},
     "output_type": "display_data"
    }
   ],
   "source": [
    "from shared import Plot2DGraphs\n",
    "from pyspark.sql import functions as F\n",
    "\n",
    "if test_params_1['algorithm'] == 'GaussianMixture':\n",
    "    Plot2DGraphs.plot_gaussians(\n",
    "        new_df,\n",
    "        execution_model.features,\n",
    "        gaussian_std=2.5)\n",
    "else:\n",
    "    pdf_with_dists = new_df.toPandas()\n",
    "    pdf_original = (dataIO.data_frame\n",
    "                    .withColumn('k', F.col('k').cast('integer'))\n",
    "                    .toPandas())\n",
    "    \n",
    "    pdf_with_dists.loc[:,'origin'] = 'kmeans'\n",
    "    pdf_original.loc[:,'origin'] = 'original'\n",
    "    pdf_original['prediction'] = pdf_original['k']\n",
    "    pdf_merged = pd.concat([pdf_original, pdf_with_dists])\n",
    "    g = sb.FacetGrid(pdf_merged,col=\"origin\", hue=\"prediction\",size=8)\n",
    "    g.map(plt.scatter, \"a\", \"b\", alpha=.7)\n",
    "    g.add_legend();\n",
    "    g.set_titles(template='{col_name}')\n",
    "    plt.show()   "
   ]
  },
  {
   "cell_type": "markdown",
   "metadata": {},
   "source": [
    "It appears that K-means creates clusters that resembel the input data eg cluster 6 and cluster 7.\n",
    "\n",
    "\n",
    "Gaussian Mixture Model example\n",
    "================\n",
    "\n",
    "The following example shows the results for the Gaussian Mixture model in Apache Spark on our synthetic generated dataset, containing 10 multivariate normal distributions in 2D."
   ]
  },
  {
   "cell_type": "code",
   "execution_count": null,
   "metadata": {
    "collapsed": true
   },
   "outputs": [],
   "source": [
    "df_with_dists = results.select_prototypes(df_results)"
   ]
  },
  {
   "cell_type": "markdown",
   "metadata": {},
   "source": [
    "Again it appears that we have no outliers for the $\\chi²$-distribution; Lets take a look at the plot of our Gaussian Mixture Model with $\\mu$ and $\\sigma$."
   ]
  },
  {
   "cell_type": "code",
   "execution_count": null,
   "metadata": {
    "collapsed": true
   },
   "outputs": [],
   "source": [
    "if test_params_1['algorithm'] == 'GaussianMixture':\n",
    "    Plot2DGraphs.plot_gaussians(\n",
    "        df_results,\n",
    "        execution_model.features,\n",
    "        gaussian_std=2)\n",
    "else:\n",
    "    pdf_with_dists = df_with_dists.toPandas()\n",
    "    pdf_original = (dataIO.data_frame\n",
    "                    .withColumn('k', F.col('k').cast('integer'))\n",
    "                    .toPandas())\n",
    "    \n",
    "    pdf_with_dists.loc[:,'origin'] = 'kmeans'\n",
    "    pdf_original.loc[:,'origin'] = 'original'\n",
    "    pdf_original['prediction'] = pdf_original['k']\n",
    "    pdf_merged = pd.concat([pdf_original, pdf_with_dists])\n",
    "    g = sb.FacetGrid(pdf_merged,col=\"origin\", hue=\"prediction\",size=8)\n",
    "    g.map(plt.scatter, \"a\", \"b\", alpha=.7)\n",
    "    g.add_legend();\n",
    "    g.set_titles(template='{col_name}')\n",
    "    plt.show() "
   ]
  },
  {
   "cell_type": "markdown",
   "metadata": {},
   "source": [
    "$\\mu$ is indicated with *x* and each eplisis indicates the covariance matrix. It appears that there are some outliers contained in each cluster for $2\\sigma$. "
   ]
  }
 ],
 "metadata": {
  "kernelspec": {
   "display_name": "Python 3",
   "language": "python",
   "name": "python3"
  },
  "language_info": {
   "codemirror_mode": {
    "name": "ipython",
    "version": 3
   },
   "file_extension": ".py",
   "mimetype": "text/x-python",
   "name": "python",
   "nbconvert_exporter": "python",
   "pygments_lexer": "ipython3",
   "version": "3.6.3"
  }
 },
 "nbformat": 4,
 "nbformat_minor": 1
}
